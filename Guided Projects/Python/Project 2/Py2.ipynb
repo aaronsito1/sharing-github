{
 "cells": [
  {
   "cell_type": "markdown",
   "metadata": {},
   "source": [
    "# Investment Opportunities -- Analyzing Profitable Mobile App Profiles \n",
    "### Introduction\n",
    "This project showcases how to clean and analyze mobile app data using functions, conditional statements, for-loops, and dictionaries.\n",
    "\n",
    "The scope of the project will be free, english games currently in the Apple Store and Google Play markets.\n",
    "\n",
    "**Goal of this project:** Recognize what makes a mobile app profitable.\n",
    "With free applications, revenue streams are created when users interact with ads or purchase in-game items. \n",
    "Ergo, more users means more revenue.\n",
    "\n",
    "Information like genre, user rating, installs, and reviews is used to find which apps are most popular. \n",
    "\n",
    "Initial findings show that 'games' is the most common genre in the Apple Store, accounting for ~60% of apps. Google Play contains a more even distribution amongst its genres, with 'utility' apps being the most common at 8%."
   ]
  },
  {
   "cell_type": "markdown",
   "metadata": {},
   "source": [
    "### Data Sources\n",
    "\n",
    "Apple Store data source direct link: https://dq-content.s3.amazonaws.com/350/AppleStore.csv\n",
    "\n",
    "Google Play Store data source direct link: https://dq-content.s3.amazonaws.com/350/googleplaystore.csv"
   ]
  },
  {
   "cell_type": "markdown",
   "metadata": {},
   "source": [
    "### Reading in data and creating a list of lists\n",
    "The helper function `reader` is imported and used to read the csv files for the apple and google datasets."
   ]
  },
  {
   "cell_type": "code",
   "execution_count": 1,
   "metadata": {},
   "outputs": [],
   "source": [
    "# import the reader function from the csv module and read in the files\n",
    "\n",
    "from csv import reader\n",
    "\n",
    "applefile = open('AppleStore.csv')\n",
    "googlefile = open('googleplaystore.csv')\n",
    "\n",
    "read_file1 = reader(applefile)\n",
    "read_file2 = reader(googlefile)\n",
    "\n",
    "# Create list of lists for each dataset\n",
    "\n",
    "appdata = list(read_file1)\n",
    "googdata = list(read_file2)\n"
   ]
  },
  {
   "cell_type": "markdown",
   "metadata": {},
   "source": [
    "### Exploring Datasets to Determine Analysis Procedure\n",
    "A function `explore_data` was created to quickly gain insight into a dataset, showing a chosen slice of data along with number of rows and columns."
   ]
  },
  {
   "cell_type": "code",
   "execution_count": 2,
   "metadata": {},
   "outputs": [],
   "source": [
    "# Function that takes dataset, start of dataset slice, end of dataset slice, boolean condition as arguments\n",
    "# and prints the desired slice, alongside number of rows and columns if it contains them\n",
    "\n",
    "def explore_data(dataset, start, end, rows_and_columns=False):\n",
    "    \n",
    "    dataset_slice = dataset[start:end]\n",
    "    \n",
    "    for row in dataset_slice:\n",
    "        print(row)\n",
    "        print('\\n') # adds a new (empty) line after each row\n",
    "\n",
    "    if rows_and_columns:\n",
    "        print('Number of rows:', len(dataset)) # Finds the length of the entire dataset ie rows\n",
    "        print('Number of columns:', len(dataset[0])) # Finds length of row in dataset ie columns"
   ]
  },
  {
   "cell_type": "markdown",
   "metadata": {},
   "source": [
    "Let's use our previously written `explore_data` function to print a few lines of each dataset."
   ]
  },
  {
   "cell_type": "code",
   "execution_count": 3,
   "metadata": {},
   "outputs": [
    {
     "name": "stdout",
     "output_type": "stream",
     "text": [
      "['id', 'track_name', 'size_bytes', 'currency', 'price', 'rating_count_tot', 'rating_count_ver', 'user_rating', 'user_rating_ver', 'ver', 'cont_rating', 'prime_genre', 'sup_devices.num', 'ipadSc_urls.num', 'lang.num', 'vpp_lic']\n",
      "\n",
      "\n",
      "['284882215', 'Facebook', '389879808', 'USD', '0.0', '2974676', '212', '3.5', '3.5', '95.0', '4+', 'Social Networking', '37', '1', '29', '1']\n",
      "\n",
      "\n",
      "Number of rows: 7198\n",
      "Number of columns: 16\n",
      "\n",
      "\n",
      "['App', 'Category', 'Rating', 'Reviews', 'Size', 'Installs', 'Type', 'Price', 'Content Rating', 'Genres', 'Last Updated', 'Current Ver', 'Android Ver']\n",
      "\n",
      "\n",
      "['Photo Editor & Candy Camera & Grid & ScrapBook', 'ART_AND_DESIGN', '4.1', '159', '19M', '10,000+', 'Free', '0', 'Everyone', 'Art & Design', 'January 7, 2018', '1.0.0', '4.0.3 and up']\n",
      "\n",
      "\n",
      "Number of rows: 10842\n",
      "Number of columns: 13\n"
     ]
    }
   ],
   "source": [
    "explore_data(appdata, 0,2,True)\n",
    "print('\\n')\n",
    "explore_data(googdata, 0,2,True)"
   ]
  },
  {
   "cell_type": "markdown",
   "metadata": {},
   "source": [
    "## Data Cleaning \n",
    " \n",
    "Begin by searching for errors that need deleting or correction.\n",
    "\n",
    "This can come in the form of duplicate rows, rows with blanks, etc."
   ]
  },
  {
   "cell_type": "markdown",
   "metadata": {},
   "source": [
    "### Deleting or Correcting Errors\n",
    "\n",
    "One method would be to iterate over the dataset, find blanks, and return the index to either replace blank with or delete index. This will be done at a later time. \n",
    "\n",
    "*Fortuitously*, a community discussion on Kaggle found an error in the google play dataset. Row 10473 (header included), contains a blank where a string should be. \n",
    "\n",
    "For now, let us delete this row and assume that is the only blank error."
   ]
  },
  {
   "cell_type": "code",
   "execution_count": 4,
   "metadata": {},
   "outputs": [],
   "source": [
    "del googdata[10473]"
   ]
  },
  {
   "cell_type": "markdown",
   "metadata": {},
   "source": [
    "### Finding and Removing Duplicates\n",
    "\n",
    "#### Finding Duplicates:\n",
    "Let's create a function `find_duplicates` that takes in a dataset and the desired column index as arguments and returns the number of found duplicates, unique elements, and total entries."
   ]
  },
  {
   "cell_type": "code",
   "execution_count": 5,
   "metadata": {},
   "outputs": [],
   "source": [
    "def find_duplicates(dataset, index): # Assumes dataset with header\n",
    "    \n",
    "    duplicate_apps = [] # Empty lists are created to isolate both duplicated and unique apps\n",
    "    unique_apps = []\n",
    "    \n",
    "    for row in dataset[1:]: # Iterate over dataset without header and assign a variable to desired index\n",
    "        name = row[index]\n",
    "        if name in unique_apps: # If the index is already found in the empty list, it is a duplicate \n",
    "            duplicate_apps.append(name)\n",
    "        else:\n",
    "            unique_apps.append(name) # If the index is not found in the empty list, it is unique\n",
    "            \n",
    "    total = len(duplicate_apps) + len(unique_apps)\n",
    "\n",
    "    print('Total entries: ' , total,'\\n',\n",
    "          'No. of dup. apps: ', len(duplicate_apps),'\\n',\n",
    "          'No. of unique apps: ',len(unique_apps),'\\n')\n",
    "    \n",
    "    if len(duplicate_apps) >= 1:\n",
    "        print('These are some of the duplicated apps: ',duplicate_apps[:3], '\\n')"
   ]
  },
  {
   "cell_type": "markdown",
   "metadata": {},
   "source": [
    "Check the datasets for any duplicates. If any, duplicates and unique elements should equate to the total entries found using the `explore_data` function previously. ***Note: The `find_duplicate` function assumes a header row.***"
   ]
  },
  {
   "cell_type": "code",
   "execution_count": 6,
   "metadata": {},
   "outputs": [
    {
     "name": "stdout",
     "output_type": "stream",
     "text": [
      "Total entries:  7197 \n",
      " No. of dup. apps:  0 \n",
      " No. of unique apps:  7197 \n",
      "\n",
      "Total entries:  10840 \n",
      " No. of dup. apps:  1181 \n",
      " No. of unique apps:  9659 \n",
      "\n",
      "These are some of the duplicated apps:  ['Quick PDF Scanner + OCR FREE', 'Box', 'Google My Business'] \n",
      "\n"
     ]
    }
   ],
   "source": [
    "find_duplicates(appdata, 0)\n",
    "find_duplicates(googdata,0)"
   ]
  },
  {
   "cell_type": "markdown",
   "metadata": {},
   "source": [
    "We did not include the header row in finding the duplicates. This should be considered for total entries.\n",
    "\n",
    "The Apple Store dataset returns no duplicates, whereas the Google Play dataset returns 1,181 duplicated rows."
   ]
  },
  {
   "cell_type": "markdown",
   "metadata": {},
   "source": [
    "#### Removing Duplicates:\n",
    "While the duplicate rows can be removed randomly, it is best to understand why there are duplicates and to remove them based on certain criteria.\n",
    "\n",
    "For example, the google dataset has duplicates for the application, Instagram. Due to the data being saved at different times, the no. of user reviews change each time it is saved. \n",
    "\n",
    "Save the latest data by setting a rule that only considers the one with the largest no. of reviews, ie. highest no. of reviews implies the the most recently updated."
   ]
  },
  {
   "cell_type": "code",
   "execution_count": 7,
   "metadata": {},
   "outputs": [
    {
     "name": "stdout",
     "output_type": "stream",
     "text": [
      "Total apps:  10840 \n",
      " Unique:  9659 \n",
      " Copies:  1181\n"
     ]
    }
   ],
   "source": [
    "# If the app is in the dictionary and its number of reviews is less than the already stored value, update value\n",
    "\n",
    "# If the app is not in the dictionary, assign that current rating value\n",
    "\n",
    "reviews_max = {}\n",
    "\n",
    "for row in googdata[1:]:\n",
    "    \n",
    "    name = row[0]\n",
    "    n_reviews = float(row[3])\n",
    "    \n",
    "    if name in reviews_max and (reviews_max[name] < n_reviews):\n",
    "        reviews_max[name] = n_reviews\n",
    "        \n",
    "    elif name not in reviews_max:\n",
    "        reviews_max[name] = n_reviews\n",
    "\n",
    "\n",
    "print('Total apps: ', len(googdata[1:]),'\\n',\n",
    "      'Unique: ', len(reviews_max), '\\n',\n",
    "      'Copies: ', len(googdata[1:]) - len(reviews_max))"
   ]
  },
  {
   "cell_type": "markdown",
   "metadata": {},
   "source": [
    "Remove the duplicates by initializing two lists `android_clean` and `already_added` in which to store the new clean data set and list of copied names, respectively.\n",
    "\n",
    "Iterate over the google dataset without the header row."
   ]
  },
  {
   "cell_type": "code",
   "execution_count": 8,
   "metadata": {},
   "outputs": [],
   "source": [
    "android_clean = [] # This will store the updated, unique app dataset\n",
    "already_added = [] # This list will only store the names\n",
    "\n",
    "for row in googdata[1:]:\n",
    "    \n",
    "    name = row[0]\n",
    "    n_reviews = float(row[3])\n",
    "    \n",
    "    # Secondary condition used in case of actual duplicates rather than larger values\n",
    "    \n",
    "    if (reviews_max[name] == n_reviews) and (name not in already_added):\n",
    "        android_clean.append(row)\n",
    "        already_added.append(name)"
   ]
  },
  {
   "cell_type": "markdown",
   "metadata": {},
   "source": [
    "Explore the data and check that the number of rows is correct."
   ]
  },
  {
   "cell_type": "code",
   "execution_count": 9,
   "metadata": {},
   "outputs": [
    {
     "name": "stdout",
     "output_type": "stream",
     "text": [
      "['Photo Editor & Candy Camera & Grid & ScrapBook', 'ART_AND_DESIGN', '4.1', '159', '19M', '10,000+', 'Free', '0', 'Everyone', 'Art & Design', 'January 7, 2018', '1.0.0', '4.0.3 and up']\n",
      "\n",
      "\n",
      "['U Launcher Lite – FREE Live Cool Themes, Hide Apps', 'ART_AND_DESIGN', '4.7', '87510', '8.7M', '5,000,000+', 'Free', '0', 'Everyone', 'Art & Design', 'August 1, 2018', '1.2.4', '4.0.3 and up']\n",
      "\n",
      "\n",
      "['Sketch - Draw & Paint', 'ART_AND_DESIGN', '4.5', '215644', '25M', '50,000,000+', 'Free', '0', 'Teen', 'Art & Design', 'June 8, 2018', 'Varies with device', '4.2 and up']\n",
      "\n",
      "\n",
      "Number of rows: 9659\n",
      "Number of columns: 13\n"
     ]
    }
   ],
   "source": [
    "explore_data(android_clean, 0, 3, True)"
   ]
  },
  {
   "cell_type": "markdown",
   "metadata": {},
   "source": [
    "### Filtering Data\n",
    "\n",
    "**English Apps**\n",
    "\n",
    "We previously stated that our scope is free, english games. \n",
    "\n",
    "Let's create a function that removes non-english apps from the datasets.\n",
    "\n",
    "The ASCII values of english characters (0-127) will be utilized to determine what type of data to filter out. "
   ]
  },
  {
   "cell_type": "code",
   "execution_count": 10,
   "metadata": {},
   "outputs": [],
   "source": [
    "def is_eng(string):\n",
    "    \n",
    "    for character in string:\n",
    "        if ord(character) > 127:\n",
    "            return False\n",
    "    \n",
    "    return True"
   ]
  },
  {
   "cell_type": "code",
   "execution_count": 11,
   "metadata": {},
   "outputs": [
    {
     "name": "stdout",
     "output_type": "stream",
     "text": [
      "True\n",
      "False\n",
      "False\n",
      "False\n"
     ]
    }
   ],
   "source": [
    "print(is_eng('Instagram'))\n",
    "print(is_eng('爱奇艺PPS -《欢乐颂2》电视剧热播'))\n",
    "print(is_eng('Docs To Go™ Free Office Suite'))\n",
    "print(is_eng('Instachat 😜'))"
   ]
  },
  {
   "cell_type": "markdown",
   "metadata": {},
   "source": [
    "The ASCII value of emojis and other symbols are greater than 127. \n",
    "\n",
    "To limit data loss, the filter of having 3 characters greater than 127 should be sufficient for this project."
   ]
  },
  {
   "cell_type": "code",
   "execution_count": 12,
   "metadata": {},
   "outputs": [],
   "source": [
    "def is_eng(string):\n",
    "    \n",
    "    non_ascii = 0\n",
    "    \n",
    "    for character in string:\n",
    "        \n",
    "        if ord(character) > 127: # ord() returns the value for that character\n",
    "            non_ascii += 1 # increments by 1 for every character above the value 127\n",
    "            \n",
    "    if non_ascii > 3:\n",
    "        return False\n",
    "    else:\n",
    "        return True"
   ]
  },
  {
   "cell_type": "code",
   "execution_count": 13,
   "metadata": {},
   "outputs": [
    {
     "name": "stdout",
     "output_type": "stream",
     "text": [
      "True\n",
      "False\n",
      "True\n",
      "True\n"
     ]
    }
   ],
   "source": [
    "print(is_eng('Instagram'))\n",
    "print(is_eng('爱奇艺PPS -《欢乐颂2》电视剧热播'))\n",
    "print(is_eng('Docs To Go™ Free Office Suite'))\n",
    "print(is_eng('Instachat 😜'))"
   ]
  },
  {
   "cell_type": "markdown",
   "metadata": {},
   "source": [
    "Using this updated function, non-English Apps from both data sets will be filtered out.\n",
    "\n",
    "Utilize the filter function on the apple dataset and explore the data."
   ]
  },
  {
   "cell_type": "code",
   "execution_count": 14,
   "metadata": {},
   "outputs": [
    {
     "name": "stdout",
     "output_type": "stream",
     "text": [
      "['284882215', 'Facebook', '389879808', 'USD', '0.0', '2974676', '212', '3.5', '3.5', '95.0', '4+', 'Social Networking', '37', '1', '29', '1']\n",
      "\n",
      "\n",
      "['389801252', 'Instagram', '113954816', 'USD', '0.0', '2161558', '1289', '4.5', '4.0', '10.23', '12+', 'Photo & Video', '37', '0', '29', '1']\n",
      "\n",
      "\n",
      "Number of rows: 6183\n",
      "Number of columns: 16\n"
     ]
    }
   ],
   "source": [
    "ios_eng = []\n",
    "\n",
    "for row in appdata[1:]:\n",
    "    \n",
    "    name = row[1]\n",
    "    \n",
    "    if is_eng(name):\n",
    "        \n",
    "        ios_eng.append(row)\n",
    "\n",
    "explore_data(ios_eng, 0, 2, True)"
   ]
  },
  {
   "cell_type": "markdown",
   "metadata": {},
   "source": [
    "Now do the same for the google dataset."
   ]
  },
  {
   "cell_type": "code",
   "execution_count": 15,
   "metadata": {},
   "outputs": [
    {
     "name": "stdout",
     "output_type": "stream",
     "text": [
      "['Photo Editor & Candy Camera & Grid & ScrapBook', 'ART_AND_DESIGN', '4.1', '159', '19M', '10,000+', 'Free', '0', 'Everyone', 'Art & Design', 'January 7, 2018', '1.0.0', '4.0.3 and up']\n",
      "\n",
      "\n",
      "['U Launcher Lite – FREE Live Cool Themes, Hide Apps', 'ART_AND_DESIGN', '4.7', '87510', '8.7M', '5,000,000+', 'Free', '0', 'Everyone', 'Art & Design', 'August 1, 2018', '1.2.4', '4.0.3 and up']\n",
      "\n",
      "\n",
      "Number of rows: 9614\n",
      "Number of columns: 13\n"
     ]
    }
   ],
   "source": [
    "android_eng = []\n",
    "\n",
    "for row in android_clean:\n",
    "    name = row[0]\n",
    "    if is_eng(name):\n",
    "        android_eng.append(row)\n",
    "\n",
    "explore_data(android_eng, 0, 2, True)"
   ]
  },
  {
   "cell_type": "markdown",
   "metadata": {},
   "source": [
    "**Free Apps**\n",
    "\n",
    "The scope of this project is *free*, english apps.\n",
    "\n",
    "For now, the final cleaning of the data will be to extract all free apps. "
   ]
  },
  {
   "cell_type": "code",
   "execution_count": 16,
   "metadata": {},
   "outputs": [],
   "source": [
    "free_eng_ios = []\n",
    "\n",
    "free_eng_android = []\n",
    "\n",
    "\n",
    "for row in ios_eng:\n",
    "    \n",
    "    price = row[4]\n",
    "    \n",
    "    if price == '0.0': # The apple dataset has the string of 0.0 in place of free apps\n",
    "        free_eng_ios.append(row)\n",
    "\n",
    "for row in android_eng:\n",
    "    \n",
    "    price = row[7]\n",
    "    \n",
    "    if price == '0': # Unlike the apple dataset, google dataset uses the string of 0 for free apps\n",
    "        free_eng_android.append(row)"
   ]
  },
  {
   "cell_type": "code",
   "execution_count": 17,
   "metadata": {},
   "outputs": [
    {
     "name": "stdout",
     "output_type": "stream",
     "text": [
      "['Photo Editor & Candy Camera & Grid & ScrapBook', 'ART_AND_DESIGN', '4.1', '159', '19M', '10,000+', 'Free', '0', 'Everyone', 'Art & Design', 'January 7, 2018', '1.0.0', '4.0.3 and up']\n",
      "\n",
      "\n",
      "['U Launcher Lite – FREE Live Cool Themes, Hide Apps', 'ART_AND_DESIGN', '4.7', '87510', '8.7M', '5,000,000+', 'Free', '0', 'Everyone', 'Art & Design', 'August 1, 2018', '1.2.4', '4.0.3 and up']\n",
      "\n",
      "\n",
      "['Sketch - Draw & Paint', 'ART_AND_DESIGN', '4.5', '215644', '25M', '50,000,000+', 'Free', '0', 'Teen', 'Art & Design', 'June 8, 2018', 'Varies with device', '4.2 and up']\n",
      "\n",
      "\n",
      "Number of rows: 8864\n",
      "Number of columns: 13\n",
      "['284882215', 'Facebook', '389879808', 'USD', '0.0', '2974676', '212', '3.5', '3.5', '95.0', '4+', 'Social Networking', '37', '1', '29', '1']\n",
      "\n",
      "\n",
      "['389801252', 'Instagram', '113954816', 'USD', '0.0', '2161558', '1289', '4.5', '4.0', '10.23', '12+', 'Photo & Video', '37', '0', '29', '1']\n",
      "\n",
      "\n",
      "['529479190', 'Clash of Clans', '116476928', 'USD', '0.0', '2130805', '579', '4.5', '4.5', '9.24.12', '9+', 'Games', '38', '5', '18', '1']\n",
      "\n",
      "\n",
      "Number of rows: 3222\n",
      "Number of columns: 16\n"
     ]
    }
   ],
   "source": [
    "explore_data(free_eng_android, 0, 3, True)\n",
    "explore_data(free_eng_ios, 0, 3, True)"
   ]
  },
  {
   "cell_type": "markdown",
   "metadata": {},
   "source": [
    "## Data Analysis\n",
    "\n",
    "Our goal is to determine the kinds of apps that are likely to attract more users. (More users = more revenue)\n",
    "\n",
    "The more users that can download and interact with our applications, the more revenue that will be made. \n",
    "\n",
    "Explore the header rows from the datasets and check which columns can help in our analysis."
   ]
  },
  {
   "cell_type": "code",
   "execution_count": 18,
   "metadata": {},
   "outputs": [
    {
     "name": "stdout",
     "output_type": "stream",
     "text": [
      "['App', 'Category', 'Rating', 'Reviews', 'Size', 'Installs', 'Type', 'Price', 'Content Rating', 'Genres', 'Last Updated', 'Current Ver', 'Android Ver']\n",
      "\n",
      "\n",
      "Number of rows: 10841\n",
      "Number of columns: 13\n",
      "\n",
      "\n",
      "['id', 'track_name', 'size_bytes', 'currency', 'price', 'rating_count_tot', 'rating_count_ver', 'user_rating', 'user_rating_ver', 'ver', 'cont_rating', 'prime_genre', 'sup_devices.num', 'ipadSc_urls.num', 'lang.num', 'vpp_lic']\n",
      "\n",
      "\n",
      "Number of rows: 7198\n",
      "Number of columns: 16\n"
     ]
    }
   ],
   "source": [
    "explore_data(googdata, 0, 1, True)\n",
    "print('\\n')\n",
    "explore_data(appdata, 0, 1, True)"
   ]
  },
  {
   "cell_type": "markdown",
   "metadata": {},
   "source": [
    "The columns below can be scrutinized in our quest to find what makes an app popular. \n",
    "\n",
    "Google data: user ratings[2], no. of ratings[3], installs[5], and content rating[8], categories[1];\n",
    "\n",
    "Apple data: user rating[7], no. of ratings [5], content rating [10], genres[11]"
   ]
  },
  {
   "cell_type": "markdown",
   "metadata": {},
   "source": [
    "Create a function `freq_table` that will create a frequency table for any column."
   ]
  },
  {
   "cell_type": "code",
   "execution_count": 19,
   "metadata": {},
   "outputs": [],
   "source": [
    "def freq_table(dataset, index):\n",
    "    \n",
    "    fq_table = {}\n",
    "    total = len(dataset)\n",
    "    \n",
    "    for row in dataset:\n",
    "        \n",
    "        column = row[index]\n",
    "        \n",
    "        if column not in fq_table:\n",
    "            fq_table[column] = 1\n",
    "            \n",
    "        else:\n",
    "            fq_table[column] += 1\n",
    "    \n",
    "    for key in fq_table: # Convert the counts into percentages using the total length of the dataset\n",
    "        \n",
    "        fq_table[key] /= total\n",
    "        fq_table[key] *= 100\n",
    "    \n",
    "    return fq_table"
   ]
  },
  {
   "cell_type": "code",
   "execution_count": 20,
   "metadata": {},
   "outputs": [
    {
     "data": {
      "text/plain": [
       "{'Social Networking': 3.2898820608317814,\n",
       " 'Photo & Video': 4.9658597144630665,\n",
       " 'Games': 58.16263190564867,\n",
       " 'Music': 2.0484171322160147,\n",
       " 'Reference': 0.5586592178770949,\n",
       " 'Health & Fitness': 2.0173805090006205,\n",
       " 'Weather': 0.8690254500310366,\n",
       " 'Utilities': 2.5139664804469275,\n",
       " 'Travel': 1.2414649286157666,\n",
       " 'Shopping': 2.60707635009311,\n",
       " 'News': 1.3345747982619491,\n",
       " 'Navigation': 0.186219739292365,\n",
       " 'Lifestyle': 1.5828677839851024,\n",
       " 'Entertainment': 7.883302296710118,\n",
       " 'Food & Drink': 0.8069522036002483,\n",
       " 'Sports': 2.1415270018621975,\n",
       " 'Book': 0.4345127250155183,\n",
       " 'Finance': 1.1173184357541899,\n",
       " 'Education': 3.662321539416512,\n",
       " 'Productivity': 1.7380509000620732,\n",
       " 'Business': 0.5276225946617008,\n",
       " 'Catalogs': 0.12414649286157665,\n",
       " 'Medical': 0.186219739292365}"
      ]
     },
     "execution_count": 20,
     "metadata": {},
     "output_type": "execute_result"
    }
   ],
   "source": [
    "freq_table(free_eng_ios, 11)"
   ]
  },
  {
   "cell_type": "markdown",
   "metadata": {},
   "source": [
    "The frequency showcases the data we want but not in a pleasing format.\n",
    "\n",
    "Create a function `display_table` that utilizes the output of the `freq_table` function and returns a sorted table in descending order."
   ]
  },
  {
   "cell_type": "code",
   "execution_count": 21,
   "metadata": {},
   "outputs": [],
   "source": [
    "def display_table(dataset, index):\n",
    "    \n",
    "    table = freq_table(dataset, index) # Assigning the ouput dictionary to the variable table\n",
    "    table_display = [] # initializing an empty list\n",
    "    \n",
    "    for key in table: # iterating over every key when iterating over a dictionary\n",
    "        \n",
    "        key_val_as_tuple = (table[key], key) # creating a tuple of the key:value pair, but in reverse order to be sorted\n",
    "        table_display.append(key_val_as_tuple) # append the tuple to the empty list\n",
    "\n",
    "# Since sorted utilizes the first index to order the values, the key:value pair needed reversing\n",
    "\n",
    "    table_sorted = sorted(table_display, reverse = True)\n",
    "    \n",
    "    for entry in table_sorted:\n",
    "        \n",
    "        print(entry[1], ':', entry[0])"
   ]
  },
  {
   "cell_type": "markdown",
   "metadata": {},
   "source": [
    "### Most Common Apps by Genre\n",
    "\n",
    "**Apple Store**\n",
    "\n",
    "Using the `display_table` function, we can analyze what genres are most common in the `free_eng_ios` dataset.\n",
    "\n",
    "The frequency table shows that *Games* are the most common genre, accounting for 58% of the aforementioned dataset. \n",
    "Coming in second are *Entertainment* type apps at nearly 8%, an overwhelming difference from *Games*.\n",
    "\n",
    "The general impression is that games and entertainment applications dominate the `free_eng_ios` dataset. Utility genres like finance, weather, navigation etc., receive less interaction. "
   ]
  },
  {
   "cell_type": "code",
   "execution_count": 22,
   "metadata": {},
   "outputs": [
    {
     "name": "stdout",
     "output_type": "stream",
     "text": [
      "Games : 58.16263190564867\n",
      "Entertainment : 7.883302296710118\n",
      "Photo & Video : 4.9658597144630665\n",
      "Education : 3.662321539416512\n",
      "Social Networking : 3.2898820608317814\n",
      "Shopping : 2.60707635009311\n",
      "Utilities : 2.5139664804469275\n",
      "Sports : 2.1415270018621975\n",
      "Music : 2.0484171322160147\n",
      "Health & Fitness : 2.0173805090006205\n",
      "Productivity : 1.7380509000620732\n",
      "Lifestyle : 1.5828677839851024\n",
      "News : 1.3345747982619491\n",
      "Travel : 1.2414649286157666\n",
      "Finance : 1.1173184357541899\n",
      "Weather : 0.8690254500310366\n",
      "Food & Drink : 0.8069522036002483\n",
      "Reference : 0.5586592178770949\n",
      "Business : 0.5276225946617008\n",
      "Book : 0.4345127250155183\n",
      "Navigation : 0.186219739292365\n",
      "Medical : 0.186219739292365\n",
      "Catalogs : 0.12414649286157665\n"
     ]
    }
   ],
   "source": [
    "display_table(free_eng_ios, 11) # Primary genre for ios apps"
   ]
  },
  {
   "cell_type": "markdown",
   "metadata": {},
   "source": [
    "**Google Play**\n",
    "\n",
    "Let's now use the `display_table` function on the `free_eng_android` dataset for the columns Categories and Genres. \n",
    "\n",
    "The top category, Family, accounts for 18.9% of apps, while the second top category, Game, is at 9.7%. The difference between first and second is ~10% for this dataset, in comparison to `free_eng_ios`'s 50% difference. \n",
    "\n",
    "Similarly, the Genres column most common type is Tools at 8.5%, and the second, Entertainment, at 6%. Only a 2% difference from first and second. \n",
    "\n",
    "`free_eng_android` showcases a more balanced distribution between apps, where fun **and** practical apps are popular."
   ]
  },
  {
   "cell_type": "code",
   "execution_count": 23,
   "metadata": {
    "scrolled": false
   },
   "outputs": [
    {
     "name": "stdout",
     "output_type": "stream",
     "text": [
      "FAMILY : 18.907942238267147\n",
      "GAME : 9.724729241877256\n",
      "TOOLS : 8.461191335740072\n",
      "BUSINESS : 4.591606498194946\n",
      "LIFESTYLE : 3.9034296028880866\n",
      "PRODUCTIVITY : 3.892148014440433\n",
      "FINANCE : 3.7003610108303246\n",
      "MEDICAL : 3.531137184115524\n",
      "SPORTS : 3.395758122743682\n",
      "PERSONALIZATION : 3.3167870036101084\n",
      "COMMUNICATION : 3.2378158844765346\n",
      "HEALTH_AND_FITNESS : 3.0798736462093865\n",
      "PHOTOGRAPHY : 2.944494584837545\n",
      "NEWS_AND_MAGAZINES : 2.7978339350180503\n",
      "SOCIAL : 2.6624548736462095\n",
      "TRAVEL_AND_LOCAL : 2.33528880866426\n",
      "SHOPPING : 2.2450361010830324\n",
      "BOOKS_AND_REFERENCE : 2.1435018050541514\n",
      "DATING : 1.861462093862816\n",
      "VIDEO_PLAYERS : 1.7937725631768955\n",
      "MAPS_AND_NAVIGATION : 1.3989169675090252\n",
      "FOOD_AND_DRINK : 1.2409747292418771\n",
      "EDUCATION : 1.1620036101083033\n",
      "ENTERTAINMENT : 0.9589350180505415\n",
      "LIBRARIES_AND_DEMO : 0.9363718411552346\n",
      "AUTO_AND_VEHICLES : 0.9250902527075812\n",
      "HOUSE_AND_HOME : 0.8235559566787004\n",
      "WEATHER : 0.8009927797833934\n",
      "EVENTS : 0.7107400722021661\n",
      "PARENTING : 0.6543321299638989\n",
      "ART_AND_DESIGN : 0.6430505415162455\n",
      "COMICS : 0.6204873646209386\n",
      "BEAUTY : 0.5979241877256317\n",
      "____________________ \n",
      "\n",
      "Tools : 8.449909747292418\n",
      "Entertainment : 6.069494584837545\n",
      "Education : 5.347472924187725\n",
      "Business : 4.591606498194946\n",
      "Productivity : 3.892148014440433\n",
      "Lifestyle : 3.892148014440433\n",
      "Finance : 3.7003610108303246\n",
      "Medical : 3.531137184115524\n",
      "Sports : 3.463447653429603\n",
      "Personalization : 3.3167870036101084\n",
      "Communication : 3.2378158844765346\n",
      "Action : 3.1024368231046933\n",
      "Health & Fitness : 3.0798736462093865\n",
      "Photography : 2.944494584837545\n",
      "News & Magazines : 2.7978339350180503\n",
      "Social : 2.6624548736462095\n",
      "Travel & Local : 2.3240072202166067\n",
      "Shopping : 2.2450361010830324\n",
      "Books & Reference : 2.1435018050541514\n",
      "Simulation : 2.0419675090252705\n",
      "Dating : 1.861462093862816\n",
      "Arcade : 1.8501805054151623\n",
      "Video Players & Editors : 1.7712093862815883\n",
      "Casual : 1.7599277978339352\n",
      "Maps & Navigation : 1.3989169675090252\n",
      "Food & Drink : 1.2409747292418771\n",
      "Puzzle : 1.128158844765343\n",
      "Racing : 0.9927797833935018\n",
      "Role Playing : 0.9363718411552346\n",
      "Libraries & Demo : 0.9363718411552346\n",
      "Auto & Vehicles : 0.9250902527075812\n",
      "Strategy : 0.9138086642599278\n",
      "House & Home : 0.8235559566787004\n",
      "Weather : 0.8009927797833934\n",
      "Events : 0.7107400722021661\n",
      "Adventure : 0.6768953068592057\n",
      "Comics : 0.6092057761732852\n",
      "Beauty : 0.5979241877256317\n",
      "Art & Design : 0.5979241877256317\n",
      "Parenting : 0.4963898916967509\n",
      "Card : 0.45126353790613716\n",
      "Casino : 0.42870036101083037\n",
      "Trivia : 0.41741877256317694\n",
      "Educational;Education : 0.39485559566787\n",
      "Board : 0.3835740072202166\n",
      "Educational : 0.3722924187725632\n",
      "Education;Education : 0.33844765342960287\n",
      "Word : 0.2594765342960289\n",
      "Casual;Pretend Play : 0.236913357400722\n",
      "Music : 0.2030685920577617\n",
      "Racing;Action & Adventure : 0.16922382671480143\n",
      "Puzzle;Brain Games : 0.16922382671480143\n",
      "Entertainment;Music & Video : 0.16922382671480143\n",
      "Casual;Brain Games : 0.13537906137184114\n",
      "Casual;Action & Adventure : 0.13537906137184114\n",
      "Arcade;Action & Adventure : 0.12409747292418773\n",
      "Action;Action & Adventure : 0.10153429602888085\n",
      "Educational;Pretend Play : 0.09025270758122744\n",
      "Simulation;Action & Adventure : 0.078971119133574\n",
      "Parenting;Education : 0.078971119133574\n",
      "Entertainment;Brain Games : 0.078971119133574\n",
      "Board;Brain Games : 0.078971119133574\n",
      "Parenting;Music & Video : 0.06768953068592057\n",
      "Educational;Brain Games : 0.06768953068592057\n",
      "Casual;Creativity : 0.06768953068592057\n",
      "Art & Design;Creativity : 0.06768953068592057\n",
      "Education;Pretend Play : 0.056407942238267145\n",
      "Role Playing;Pretend Play : 0.04512635379061372\n",
      "Education;Creativity : 0.04512635379061372\n",
      "Role Playing;Action & Adventure : 0.033844765342960284\n",
      "Puzzle;Action & Adventure : 0.033844765342960284\n",
      "Entertainment;Creativity : 0.033844765342960284\n",
      "Entertainment;Action & Adventure : 0.033844765342960284\n",
      "Educational;Creativity : 0.033844765342960284\n",
      "Educational;Action & Adventure : 0.033844765342960284\n",
      "Education;Music & Video : 0.033844765342960284\n",
      "Education;Brain Games : 0.033844765342960284\n",
      "Education;Action & Adventure : 0.033844765342960284\n",
      "Adventure;Action & Adventure : 0.033844765342960284\n",
      "Video Players & Editors;Music & Video : 0.02256317689530686\n",
      "Sports;Action & Adventure : 0.02256317689530686\n",
      "Simulation;Pretend Play : 0.02256317689530686\n",
      "Puzzle;Creativity : 0.02256317689530686\n",
      "Music;Music & Video : 0.02256317689530686\n",
      "Entertainment;Pretend Play : 0.02256317689530686\n",
      "Casual;Education : 0.02256317689530686\n",
      "Board;Action & Adventure : 0.02256317689530686\n",
      "Video Players & Editors;Creativity : 0.01128158844765343\n",
      "Trivia;Education : 0.01128158844765343\n",
      "Travel & Local;Action & Adventure : 0.01128158844765343\n",
      "Tools;Education : 0.01128158844765343\n",
      "Strategy;Education : 0.01128158844765343\n",
      "Strategy;Creativity : 0.01128158844765343\n",
      "Strategy;Action & Adventure : 0.01128158844765343\n",
      "Simulation;Education : 0.01128158844765343\n",
      "Role Playing;Brain Games : 0.01128158844765343\n",
      "Racing;Pretend Play : 0.01128158844765343\n",
      "Puzzle;Education : 0.01128158844765343\n",
      "Parenting;Brain Games : 0.01128158844765343\n",
      "Music & Audio;Music & Video : 0.01128158844765343\n",
      "Lifestyle;Pretend Play : 0.01128158844765343\n",
      "Lifestyle;Education : 0.01128158844765343\n",
      "Health & Fitness;Education : 0.01128158844765343\n",
      "Health & Fitness;Action & Adventure : 0.01128158844765343\n",
      "Entertainment;Education : 0.01128158844765343\n",
      "Communication;Creativity : 0.01128158844765343\n",
      "Comics;Creativity : 0.01128158844765343\n",
      "Casual;Music & Video : 0.01128158844765343\n",
      "Card;Action & Adventure : 0.01128158844765343\n",
      "Books & Reference;Education : 0.01128158844765343\n",
      "Art & Design;Pretend Play : 0.01128158844765343\n",
      "Art & Design;Action & Adventure : 0.01128158844765343\n",
      "Arcade;Pretend Play : 0.01128158844765343\n",
      "Adventure;Education : 0.01128158844765343\n"
     ]
    }
   ],
   "source": [
    "display_table(free_eng_android,1) # categories for google apps\n",
    "print('____________________','\\n')\n",
    "display_table(free_eng_android,9) # secondary genres for google apps"
   ]
  },
  {
   "cell_type": "markdown",
   "metadata": {},
   "source": [
    "### Most Popular Apps by Genre\n",
    "\n",
    "Calculate the average number of installs for each app genre to find what kinds are most popular.\n",
    "\n",
    "**Apple Store**\n",
    "\n",
    "The column `user_ratings` will be used as a proxy for installs since the apple store dataset does not contain it. \n",
    "\n",
    "Let's utilize nested loops and do the following:\n",
    "\n",
    "    Isolate the apps of each genre\n",
    "    Add up the user ratings for the apps of that genre\n",
    "    Divide the sum by the number of apps belonging to that genre (not by the total number of apps)"
   ]
  },
  {
   "cell_type": "code",
   "execution_count": 24,
   "metadata": {},
   "outputs": [
    {
     "name": "stdout",
     "output_type": "stream",
     "text": [
      "Social Networking: 71,548.35\n",
      "Photo & Video: 28,441.54\n",
      "Games: 22,788.67\n",
      "Music: 57,326.53\n",
      "Reference: 74,942.11\n",
      "Health & Fitness: 23,298.02\n",
      "Weather: 52,279.89\n",
      "Utilities: 18,684.46\n",
      "Travel: 28,243.80\n",
      "Shopping: 26,919.69\n",
      "News: 21,248.02\n",
      "Navigation: 86,090.33\n",
      "Lifestyle: 16,485.76\n",
      "Entertainment: 14,029.83\n",
      "Food & Drink: 33,333.92\n",
      "Sports: 23,008.90\n",
      "Book: 39,758.50\n",
      "Finance: 31,467.94\n",
      "Education: 7,003.98\n",
      "Productivity: 21,028.41\n",
      "Business: 7,491.12\n",
      "Catalogs: 4,004.00\n",
      "Medical: 612.00\n"
     ]
    }
   ],
   "source": [
    "genres_ios = freq_table(free_eng_ios, 11)\n",
    "\n",
    "for genre in genres_ios:\n",
    "    \n",
    "    total = 0\n",
    "    len_genre = 0\n",
    "    \n",
    "    for app in free_eng_ios:\n",
    "        \n",
    "        genre_app = app[11]\n",
    "        \n",
    "        if genre_app == genre:\n",
    "            \n",
    "            no_of_ratings = float(app[5])\n",
    "            total += no_of_ratings\n",
    "            len_genre += 1\n",
    "            \n",
    "    average_no = total / len_genre    \n",
    "    print(f\"{genre}: {average_no:,.2f}\")"
   ]
  },
  {
   "cell_type": "markdown",
   "metadata": {},
   "source": [
    "The output above shows the average number of user ratings for each genre. \n",
    "\n",
    "While Games and Entertainment are the most common genres for apps, the more popular genres seem to be Navigation, Reference, and Social Networking."
   ]
  },
  {
   "cell_type": "code",
   "execution_count": 25,
   "metadata": {},
   "outputs": [
    {
     "name": "stdout",
     "output_type": "stream",
     "text": [
      "Bible : 985920\n",
      "Dictionary.com Dictionary & Thesaurus : 200047\n",
      "Dictionary.com Dictionary & Thesaurus for iPad : 54175\n",
      "Google Translate : 26786\n",
      "Muslim Pro: Ramadan 2017 Prayer Times, Azan, Quran : 18418\n",
      "New Furniture Mods - Pocket Wiki & Game Tools for Minecraft PC Edition : 17588\n",
      "Merriam-Webster Dictionary : 16849\n",
      "Night Sky : 12122\n",
      "City Maps for Minecraft PE - The Best Maps for Minecraft Pocket Edition (MCPE) : 8535\n",
      "LUCKY BLOCK MOD ™ for Minecraft PC Edition - The Best Pocket Wiki & Mods Installer Tools : 4693\n",
      "GUNS MODS for Minecraft PC Edition - Mods Tools : 1497\n",
      "Guides for Pokémon GO - Pokemon GO News and Cheats : 826\n",
      "WWDC : 762\n",
      "Horror Maps for Minecraft PE - Download The Scariest Maps for Minecraft Pocket Edition (MCPE) Free : 718\n",
      "VPN Express : 14\n",
      "Real Bike Traffic Rider Virtual Reality Glasses : 8\n",
      "教えて!goo : 0\n",
      "Jishokun-Japanese English Dictionary & Translator : 0\n"
     ]
    }
   ],
   "source": [
    "for app in free_eng_ios:\n",
    "    if app[-5] == 'Reference':\n",
    "        print(app[1], ':', app[5]) # print name and number of ratings"
   ]
  },
  {
   "cell_type": "markdown",
   "metadata": {},
   "source": [
    "The number of user ratings is heavily skewed by app giants like the Bible and Dictrionary.com. A similar pattern follows the Navigation and Social Networking genre where apps Google Maps and Waze for navigation, and Facebook and Instagram for Social Networking dominate those genres. "
   ]
  },
  {
   "cell_type": "markdown",
   "metadata": {},
   "source": [
    "**Google Play**\n",
    "\n",
    "We find that the `installs` column does not have precise install numbers, rather it contains ranges for the amount of installs.\n",
    "\n",
    "We can work with the ranges removing unwanted characters and converting into float values.\n",
    "\n",
    "Let's combine the above with the same logic applied to the apple store dataset in the same loop. "
   ]
  },
  {
   "cell_type": "code",
   "execution_count": 26,
   "metadata": {},
   "outputs": [
    {
     "name": "stdout",
     "output_type": "stream",
     "text": [
      "ART_AND_DESIGN: 1,986,335.09\n",
      "AUTO_AND_VEHICLES: 647,317.82\n",
      "BEAUTY: 513,151.89\n",
      "BOOKS_AND_REFERENCE: 8,767,811.89\n",
      "BUSINESS: 1,712,290.15\n",
      "COMICS: 817,657.27\n",
      "COMMUNICATION: 38,456,119.17\n",
      "DATING: 854,028.83\n",
      "EDUCATION: 1,833,495.15\n",
      "ENTERTAINMENT: 11,640,705.88\n",
      "EVENTS: 253,542.22\n",
      "FINANCE: 1,387,692.48\n",
      "FOOD_AND_DRINK: 1,924,897.74\n",
      "HEALTH_AND_FITNESS: 4,188,821.99\n",
      "HOUSE_AND_HOME: 1,331,540.56\n",
      "LIBRARIES_AND_DEMO: 638,503.73\n",
      "LIFESTYLE: 1,437,816.27\n",
      "GAME: 15,588,015.60\n",
      "FAMILY: 3,695,641.82\n",
      "MEDICAL: 120,550.62\n",
      "SOCIAL: 23,253,652.13\n",
      "SHOPPING: 7,036,877.31\n",
      "PHOTOGRAPHY: 17,840,110.40\n",
      "SPORTS: 3,638,640.14\n",
      "TRAVEL_AND_LOCAL: 13,984,077.71\n",
      "TOOLS: 10,801,391.30\n",
      "PERSONALIZATION: 5,201,482.61\n",
      "PRODUCTIVITY: 16,787,331.34\n",
      "PARENTING: 542,603.62\n",
      "WEATHER: 5,074,486.20\n",
      "VIDEO_PLAYERS: 24,727,872.45\n",
      "NEWS_AND_MAGAZINES: 9,549,178.47\n",
      "MAPS_AND_NAVIGATION: 4,056,941.77\n"
     ]
    }
   ],
   "source": [
    "categories_android = freq_table(free_eng_android, 1)\n",
    "\n",
    "for category in categories_android:\n",
    "    \n",
    "    total = 0\n",
    "    len_category = 0\n",
    "    \n",
    "    for app in free_eng_android:\n",
    "        \n",
    "        category_app = app[1]\n",
    "        \n",
    "        if category == category_app:\n",
    "            \n",
    "            no_of_installs = app[5]\n",
    "            no_of_installs = no_of_installs.replace('+','')\n",
    "            no_of_installs = no_of_installs.replace(',','')\n",
    "            total += float(no_of_installs)\n",
    "            len_category += 1\n",
    "            \n",
    "    avg_installs = total / len_category\n",
    "    print(f\"{category}: {avg_installs:,.2f}\")\n",
    "    "
   ]
  },
  {
   "cell_type": "markdown",
   "metadata": {},
   "source": [
    "The output above shows the average number of installs for each category in the Google Play store.\n",
    "\n",
    "It finds that Communication is most the popular genere, with over 38 million installs. \n",
    "\n",
    "However, we can infer that these numbers can be skewed by a few giants, similar to the Apple Store. "
   ]
  },
  {
   "cell_type": "code",
   "execution_count": 27,
   "metadata": {},
   "outputs": [
    {
     "name": "stdout",
     "output_type": "stream",
     "text": [
      "WhatsApp Messenger : 1,000,000,000+\n",
      "My Tele2 : 5,000,000+\n",
      "Call Free – Free Call : 5,000,000+\n",
      "Web Browser & Explorer : 5,000,000+\n",
      "Skype Lite - Free Video Call & Chat : 5,000,000+\n",
      "Google Duo - High Quality Video Calls : 500,000,000+\n",
      "My Vodacom SA : 5,000,000+\n",
      "Microsoft Edge : 5,000,000+\n",
      "Messenger – Text and Video Chat for Free : 1,000,000,000+\n",
      "imo free video calls and chat : 500,000,000+\n",
      "Calls & Text by Mo+ : 5,000,000+\n",
      "Skype - free IM & video calls : 1,000,000,000+\n",
      "LINE: Free Calls & Messages : 500,000,000+\n",
      "Google Chrome: Fast & Secure : 1,000,000,000+\n",
      "UC Browser - Fast Download Private & Secure : 500,000,000+\n",
      "Full Screen Caller ID : 5,000,000+\n",
      "CIA - Caller ID & Call Blocker : 5,000,000+\n",
      "Call Control - Call Blocker : 5,000,000+\n",
      "Sync.ME – Caller ID & Block : 5,000,000+\n",
      "Gmail : 1,000,000,000+\n",
      "K-9 Mail : 5,000,000+\n",
      "Daum Mail - Next Mail : 5,000,000+\n",
      "Hangouts : 1,000,000,000+\n",
      "JusTalk - Free Video Calls and Fun Video Chat : 5,000,000+\n",
      "AT&T Call Protect : 5,000,000+\n",
      "Viber Messenger : 500,000,000+\n",
      "Brave Browser: Fast AdBlocker : 5,000,000+\n",
      "Ear Agent: Super Hearing : 5,000,000+\n",
      "Bluetooth Auto Connect : 5,000,000+\n",
      "Chrome Dev : 5,000,000+\n",
      "CM Transfer - Share any files with friends nearby : 5,000,000+\n",
      "Your Freedom VPN Client : 5,000,000+\n",
      "Caller ID & Call Block - DU Caller : 5,000,000+\n"
     ]
    }
   ],
   "source": [
    "for app in free_eng_android:\n",
    "    if app[1] == 'COMMUNICATION' and (app[5] == '1,000,000,000+' or app[5] == '500,000,000+' or app[5] == '5,000,000+'):\n",
    "        print(app[0], ':', app[5]) # print name and number of ratings"
   ]
  },
  {
   "cell_type": "markdown",
   "metadata": {},
   "source": [
    "Confirming our assumption, we see that apps like Gmail, WhatsApp and Skype skew the genre data."
   ]
  },
  {
   "cell_type": "markdown",
   "metadata": {},
   "source": [
    "## Conclusion\n",
    "\n",
    "This project showcased an introductory process for collecting, cleaning and analyzing a subset of app data from the Apple and Google Play stores. \n",
    "\n",
    "The goal was to find what type of app profiles could be profitable for both markets. \n",
    "\n",
    "At surface-level, we find that in both data subsets, Utilities, Social networking and Entertainment apps make up the most common as well as the most popular apps.\n",
    "\n",
    "One possible idea could be to create a mobile game that allows for interactions between users, offering in-app purchases for better items, increasing the likelihood a user will want to spend to win. (This is highly common, however)\n",
    "\n",
    "Another idea could be to combine Social Networking with something like a translator app. A repository of text translation could be at the ready for any user accessing that information. The more common translations could be analyzed by a community discussion to give confirmation on the accuracy of formal, informal or slang phrases."
   ]
  }
 ],
 "metadata": {
  "kernelspec": {
   "display_name": "Python 3 (ipykernel)",
   "language": "python",
   "name": "python3"
  },
  "language_info": {
   "codemirror_mode": {
    "name": "ipython",
    "version": 3
   },
   "file_extension": ".py",
   "mimetype": "text/x-python",
   "name": "python",
   "nbconvert_exporter": "python",
   "pygments_lexer": "ipython3",
   "version": "3.11.0"
  }
 },
 "nbformat": 4,
 "nbformat_minor": 2
}
